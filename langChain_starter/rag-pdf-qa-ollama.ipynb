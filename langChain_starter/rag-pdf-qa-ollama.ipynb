{
 "cells": [
  {
   "cell_type": "code",
   "execution_count": 47,
   "id": "a98011df002e3ac7",
   "metadata": {
    "ExecuteTime": {
     "end_time": "2024-06-05T10:57:27.911921Z",
     "start_time": "2024-06-05T10:57:27.746506Z"
    }
   },
   "outputs": [],
   "source": [
    "from dotenv import load_dotenv\n",
    "\n",
    "from langchain import chains, document_loaders, vectorstores\n",
    "from langchain.text_splitter import CharacterTextSplitter\n",
    "from langchain_openai import ChatOpenAI, OpenAIEmbeddings\n",
    "from langchain_community.embeddings import OllamaEmbeddings\n",
    "from langchain_community.chat_models import ChatOllama\n",
    "from langchain.document_loaders import TextLoader\n",
    "\n",
    "import re\n",
    "import PyPDF2"
   ]
  },
  {
   "cell_type": "code",
   "execution_count": 52,
   "id": "1ad45b37d3f23ea5",
   "metadata": {
    "ExecuteTime": {
     "end_time": "2024-06-05T10:57:33.371323Z",
     "start_time": "2024-06-05T10:57:31.690904Z"
    }
   },
   "outputs": [],
   "source": [
    "with open(\"./materials/chekhov.txt\", \"r\", encoding=\"utf-8\") as file:\n",
    "    text_content = file.read()\n",
    "pdf = text_content\n",
    "#len(pdf.pages)\n",
    "#print(pdf)"
   ]
  },
  {
   "cell_type": "code",
   "execution_count": 56,
   "id": "a6c1a3bcaaee5c40",
   "metadata": {
    "ExecuteTime": {
     "end_time": "2024-05-31T15:47:12.778389Z",
     "start_time": "2024-05-31T15:47:12.770226Z"
    }
   },
   "outputs": [],
   "source": [
    "class PdfQA:\n",
    "    \"\"\"\n",
    "    Initializes the PdfQA class with the specified parameters.\n",
    "\n",
    "    :param model: The name or path of the model to be loaded.\n",
    "    :param pdf_document: The path to the PDF document to be loaded.\n",
    "    :param chunk_size: The desired size of each chunk.\n",
    "    :param chunk_overlap: The specified overlap between chunks.\n",
    "    :param search_type: The type of search to be performed.\n",
    "    :param n_documents: The number of documents to be retrieved.\n",
    "    :param chain_type: The type of chain to create.\n",
    "    \"\"\"\n",
    "\n",
    "    def __init__(self, model, pdf_document, chunk_size, chunk_overlap,\n",
    "                 search_type, n_documents, chain_type):\n",
    "        #load_dotenv()\n",
    "        self.init_chat_model(model)\n",
    "        #self.load_pdfs(pdf_document)\n",
    "        self.load_text(pdf_document)\n",
    "        self.split_documents(chunk_size, chunk_overlap)\n",
    "        #self.select_embedding = OpenAIEmbeddings()\n",
    "        self.select_embedding = OllamaEmbeddings(model='mxbai-embed-large:latest')\n",
    "        self.create_vectorstore()\n",
    "        self.create_retriever(search_type, n_documents)\n",
    "        self.chain = self.create_chain(chain_type)\n",
    "\n",
    "    def init_chat_model(self, model):\n",
    "        \"\"\"\n",
    "        Initialize the chat model.\n",
    "\n",
    "        :param model: The name or path of the model to be loaded.\n",
    "        :return: None\n",
    "\n",
    "        \"\"\"\n",
    "        print(\"Loading model\")\n",
    "        self.llm = ChatOpenAI(model_name=model, temperature=0)\n",
    "        # self.llm = ChatOllama(model_name=model, temperature=0)\n",
    "    # def load_pdfs(self, pdf_document):\n",
    "    #     \"\"\"\n",
    "    #     Load documents from a PDF file and convert to a format that can be ingested by the langchain\n",
    "    #     document splitter.\n",
    "\n",
    "    #     :param pdf_document: The path to the PDF document to be loaded.\n",
    "    #     :return: None\n",
    "    #     \"\"\"\n",
    "    #     print(\"Loading PDFs\")\n",
    "    #     pdf_loader = document_loaders.PyPDFLoader(pdf_document)\n",
    "    #     self.documents = pdf_loader.load()\n",
    "    #     print(self.documents)\n",
    "    \n",
    "    def load_text(self, text):\n",
    "        \n",
    "        loader = TextLoader(text)\n",
    "        self.documents = loader.load()\n",
    "        \n",
    "\n",
    "    def split_documents(self, chunk_size, chunk_overlap):\n",
    "        \"\"\"\n",
    "        Split the documents into chunks of a given size with a specified overlap.\n",
    "\n",
    "        :param chunk_size: The desired size of each chunk.\n",
    "        :type chunk_size: int\n",
    "        :param chunk_overlap: The specified overlap between chunks.\n",
    "        :type chunk_overlap: int\n",
    "        :return: None\n",
    "        \"\"\"\n",
    "        print(\"Splitting documents\")\n",
    "        text_splitter = CharacterTextSplitter(chunk_size=chunk_size, chunk_overlap=chunk_overlap)\n",
    "        self.texts = text_splitter.split_documents(self.documents)\n",
    "\n",
    "    def create_vectorstore(self):\n",
    "        \"\"\"\n",
    "        Create Vector Store.\n",
    "\n",
    "        This method creates document embeddings using the Chroma algorithm from the given texts and selected embedding.\n",
    "\n",
    "        :return: None\n",
    "        \"\"\"\n",
    "        print(\"Creating document embeddings\")\n",
    "        self.db = vectorstores.Chroma.from_documents(self.texts, self.select_embedding)\n",
    "\n",
    "    def create_retriever(self, search_type, n_documents):\n",
    "        \"\"\"\n",
    "        Generate a chunk retriever for the given search type and number of documents.\n",
    "\n",
    "        :param search_type: The type of search to be performed.\n",
    "        :param n_documents: The number of documents to be retrieved.\n",
    "        :return: None\n",
    "        \"\"\"\n",
    "        print(\"Generating chunk retriever\")\n",
    "        self.retriever = self.db.as_retriever(search_type=search_type, search_kwargs={\"k\": n_documents})\n",
    "\n",
    "    def create_chain(self, chain_type):\n",
    "        \"\"\"\n",
    "        :param chain_type: The type of chain to create.\n",
    "        :return: The created chain.\n",
    "        \"\"\"\n",
    "        qa = chains.RetrievalQA.from_chain_type(llm=self.llm,\n",
    "                                                chain_type=chain_type,\n",
    "                                                retriever=self.retriever,\n",
    "                                                return_source_documents=True)\n",
    "        return qa\n",
    "\n",
    "    def query_chain(self):\n",
    "        \"\"\"\n",
    "        Returns the chain of the object.\n",
    "\n",
    "        :return: The chain of the object.\n",
    "        \"\"\"\n",
    "        return self.chain"
   ]
  },
  {
   "cell_type": "markdown",
   "id": "337a752314ad724",
   "metadata": {},
   "source": [
    "## Levers in the RAG pipeline\n",
    "RAG is quite tricky to get right, especially if you need it to be efficient. There are many levers we can pull in our pipeline, which influence the following things:\n",
    "* How fast we can get our answers;\n",
    "* How relevant our answers are (and related, how likely we are to get a hallucination);\n",
    "* How complete our answers are.\n",
    "\n",
    "Let's instantiate our PDF questioner with the following values:\n",
    "* `model`: the LLM used to generate answers using information from the document. In this case, `gpt-3.5-turbo`.\n",
    "* `pdf_document`: the PDF we want to \"chat with\". In our case, we've selected our PDF containing almost all of the PyCharm documentation.\n",
    "* `chunk_size`: the maximum number of tokens to include in each chunk. We've selected 1000.\n",
    "* `chunk_overlap`: the number of tokens that should overlap between adjacent chunks. We've selected 0, so no overlapping tokens.\n",
    "* `search_type`: the metric by which chunks are selected. In this case, we've selected \"similarity\", so those chunks with the highest (cosine) similarity to the content of the question we're asking. However, you can also use \"mmr\" (if supported by your document store) which tries to maximise for relevancy and diversity of results.\n",
    "* `n_documents`: the maximum number of chunks to use to generate the answer. In this case, we've used 5.\n",
    "* `chain_type`: this controls how the content is passed into the LLM. In the case of \"stuff\" it passes all gathered context chunks into the context window at once. Other options are \"refine\", which feeds in the chunks in batches, plus the answer generated so far, and \"map-rerank\", which feeds in each chunk and assigns a score based on how well it answered the question.\n",
    "\n",
    "Other levers I've chosen not to make arguments in this class are the model used for embeddings (the `OpenAIEmbeddings` were used) and which vector database we use to store the document embeddings (in this case, the `Chroma` vector store was used)."
   ]
  },
  {
   "cell_type": "code",
   "execution_count": 57,
   "id": "696e06baa6306eeb",
   "metadata": {
    "ExecuteTime": {
     "end_time": "2024-05-31T15:48:30.658710Z",
     "start_time": "2024-05-31T15:47:15.228269Z"
    }
   },
   "outputs": [
    {
     "name": "stderr",
     "output_type": "stream",
     "text": [
      "Created a chunk of size 1071, which is longer than the specified 1000\n",
      "Created a chunk of size 1157, which is longer than the specified 1000\n",
      "Created a chunk of size 2322, which is longer than the specified 1000\n",
      "Created a chunk of size 1054, which is longer than the specified 1000\n",
      "Created a chunk of size 1728, which is longer than the specified 1000\n",
      "Created a chunk of size 1183, which is longer than the specified 1000\n",
      "Created a chunk of size 1175, which is longer than the specified 1000\n",
      "Created a chunk of size 1512, which is longer than the specified 1000\n",
      "Created a chunk of size 1544, which is longer than the specified 1000\n",
      "Created a chunk of size 1073, which is longer than the specified 1000\n",
      "Created a chunk of size 1440, which is longer than the specified 1000\n",
      "Created a chunk of size 1059, which is longer than the specified 1000\n",
      "Created a chunk of size 1100, which is longer than the specified 1000\n",
      "Created a chunk of size 1465, which is longer than the specified 1000\n",
      "Created a chunk of size 2374, which is longer than the specified 1000\n",
      "Created a chunk of size 1227, which is longer than the specified 1000\n",
      "Created a chunk of size 2500, which is longer than the specified 1000\n",
      "Created a chunk of size 1011, which is longer than the specified 1000\n",
      "Created a chunk of size 2195, which is longer than the specified 1000\n",
      "Created a chunk of size 1085, which is longer than the specified 1000\n",
      "Created a chunk of size 1430, which is longer than the specified 1000\n",
      "Created a chunk of size 1087, which is longer than the specified 1000\n",
      "Created a chunk of size 2083, which is longer than the specified 1000\n",
      "Created a chunk of size 1869, which is longer than the specified 1000\n",
      "Created a chunk of size 1272, which is longer than the specified 1000\n",
      "Created a chunk of size 1700, which is longer than the specified 1000\n",
      "Created a chunk of size 1266, which is longer than the specified 1000\n",
      "Created a chunk of size 1920, which is longer than the specified 1000\n",
      "Created a chunk of size 1407, which is longer than the specified 1000\n",
      "Created a chunk of size 1552, which is longer than the specified 1000\n",
      "Created a chunk of size 1023, which is longer than the specified 1000\n",
      "Created a chunk of size 1327, which is longer than the specified 1000\n",
      "Created a chunk of size 2223, which is longer than the specified 1000\n",
      "Created a chunk of size 1908, which is longer than the specified 1000\n",
      "Created a chunk of size 2656, which is longer than the specified 1000\n",
      "Created a chunk of size 1788, which is longer than the specified 1000\n",
      "Created a chunk of size 1284, which is longer than the specified 1000\n",
      "Created a chunk of size 2301, which is longer than the specified 1000\n",
      "Created a chunk of size 2041, which is longer than the specified 1000\n",
      "Created a chunk of size 1256, which is longer than the specified 1000\n",
      "Created a chunk of size 1139, which is longer than the specified 1000\n",
      "Created a chunk of size 1191, which is longer than the specified 1000\n",
      "Created a chunk of size 1445, which is longer than the specified 1000\n",
      "Created a chunk of size 1088, which is longer than the specified 1000\n",
      "Created a chunk of size 1426, which is longer than the specified 1000\n",
      "Created a chunk of size 1518, which is longer than the specified 1000\n",
      "Created a chunk of size 2462, which is longer than the specified 1000\n",
      "Created a chunk of size 2140, which is longer than the specified 1000\n",
      "Created a chunk of size 1740, which is longer than the specified 1000\n",
      "Created a chunk of size 1104, which is longer than the specified 1000\n",
      "Created a chunk of size 1013, which is longer than the specified 1000\n",
      "Created a chunk of size 1041, which is longer than the specified 1000\n",
      "Created a chunk of size 2782, which is longer than the specified 1000\n",
      "Created a chunk of size 1993, which is longer than the specified 1000\n",
      "Created a chunk of size 3531, which is longer than the specified 1000\n",
      "Created a chunk of size 3828, which is longer than the specified 1000\n",
      "Created a chunk of size 1122, which is longer than the specified 1000\n",
      "Created a chunk of size 3342, which is longer than the specified 1000\n",
      "Created a chunk of size 1306, which is longer than the specified 1000\n",
      "Created a chunk of size 3781, which is longer than the specified 1000\n",
      "Created a chunk of size 1930, which is longer than the specified 1000\n",
      "Created a chunk of size 1406, which is longer than the specified 1000\n",
      "Created a chunk of size 1750, which is longer than the specified 1000\n",
      "Created a chunk of size 1301, which is longer than the specified 1000\n",
      "Created a chunk of size 1028, which is longer than the specified 1000\n",
      "Created a chunk of size 1143, which is longer than the specified 1000\n",
      "Created a chunk of size 1170, which is longer than the specified 1000\n",
      "Created a chunk of size 1720, which is longer than the specified 1000\n",
      "Created a chunk of size 2380, which is longer than the specified 1000\n",
      "Created a chunk of size 1904, which is longer than the specified 1000\n",
      "Created a chunk of size 1021, which is longer than the specified 1000\n",
      "Created a chunk of size 1200, which is longer than the specified 1000\n",
      "Created a chunk of size 1403, which is longer than the specified 1000\n",
      "Created a chunk of size 4543, which is longer than the specified 1000\n",
      "Created a chunk of size 1421, which is longer than the specified 1000\n",
      "Created a chunk of size 1571, which is longer than the specified 1000\n",
      "Created a chunk of size 2624, which is longer than the specified 1000\n",
      "Created a chunk of size 1293, which is longer than the specified 1000\n",
      "Created a chunk of size 1217, which is longer than the specified 1000\n",
      "Created a chunk of size 1691, which is longer than the specified 1000\n",
      "Created a chunk of size 1843, which is longer than the specified 1000\n",
      "Created a chunk of size 1437, which is longer than the specified 1000\n",
      "Created a chunk of size 1022, which is longer than the specified 1000\n",
      "Created a chunk of size 1172, which is longer than the specified 1000\n",
      "Created a chunk of size 1895, which is longer than the specified 1000\n",
      "Created a chunk of size 1028, which is longer than the specified 1000\n",
      "Created a chunk of size 1006, which is longer than the specified 1000\n",
      "Created a chunk of size 1214, which is longer than the specified 1000\n",
      "Created a chunk of size 1521, which is longer than the specified 1000\n",
      "Created a chunk of size 1790, which is longer than the specified 1000\n",
      "Created a chunk of size 1874, which is longer than the specified 1000\n",
      "Created a chunk of size 1993, which is longer than the specified 1000\n",
      "Created a chunk of size 1575, which is longer than the specified 1000\n",
      "Created a chunk of size 1421, which is longer than the specified 1000\n",
      "Created a chunk of size 1290, which is longer than the specified 1000\n",
      "Created a chunk of size 1449, which is longer than the specified 1000\n",
      "Created a chunk of size 1856, which is longer than the specified 1000\n",
      "Created a chunk of size 1264, which is longer than the specified 1000\n",
      "Created a chunk of size 1198, which is longer than the specified 1000\n",
      "Created a chunk of size 1560, which is longer than the specified 1000\n",
      "Created a chunk of size 2501, which is longer than the specified 1000\n",
      "Created a chunk of size 2732, which is longer than the specified 1000\n",
      "Created a chunk of size 1183, which is longer than the specified 1000\n",
      "Created a chunk of size 1318, which is longer than the specified 1000\n",
      "Created a chunk of size 4069, which is longer than the specified 1000\n",
      "Created a chunk of size 1745, which is longer than the specified 1000\n",
      "Created a chunk of size 2505, which is longer than the specified 1000\n",
      "Created a chunk of size 1641, which is longer than the specified 1000\n",
      "Created a chunk of size 1109, which is longer than the specified 1000\n",
      "Created a chunk of size 1346, which is longer than the specified 1000\n",
      "Created a chunk of size 1409, which is longer than the specified 1000\n",
      "Created a chunk of size 1157, which is longer than the specified 1000\n",
      "Created a chunk of size 1407, which is longer than the specified 1000\n",
      "Created a chunk of size 1726, which is longer than the specified 1000\n",
      "Created a chunk of size 1310, which is longer than the specified 1000\n",
      "Created a chunk of size 1112, which is longer than the specified 1000\n",
      "Created a chunk of size 2295, which is longer than the specified 1000\n",
      "Created a chunk of size 2235, which is longer than the specified 1000\n",
      "Created a chunk of size 1013, which is longer than the specified 1000\n",
      "Created a chunk of size 1225, which is longer than the specified 1000\n",
      "Created a chunk of size 1886, which is longer than the specified 1000\n",
      "Created a chunk of size 1139, which is longer than the specified 1000\n",
      "Created a chunk of size 1853, which is longer than the specified 1000\n",
      "Created a chunk of size 1221, which is longer than the specified 1000\n",
      "Created a chunk of size 1537, which is longer than the specified 1000\n",
      "Created a chunk of size 1095, which is longer than the specified 1000\n",
      "Created a chunk of size 1091, which is longer than the specified 1000\n",
      "Created a chunk of size 1328, which is longer than the specified 1000\n",
      "Created a chunk of size 1027, which is longer than the specified 1000\n",
      "Created a chunk of size 1787, which is longer than the specified 1000\n",
      "Created a chunk of size 1117, which is longer than the specified 1000\n",
      "Created a chunk of size 1617, which is longer than the specified 1000\n",
      "Created a chunk of size 1010, which is longer than the specified 1000\n",
      "Created a chunk of size 2400, which is longer than the specified 1000\n",
      "Created a chunk of size 3017, which is longer than the specified 1000\n",
      "Created a chunk of size 1343, which is longer than the specified 1000\n",
      "Created a chunk of size 1163, which is longer than the specified 1000\n",
      "Created a chunk of size 1070, which is longer than the specified 1000\n",
      "Created a chunk of size 1184, which is longer than the specified 1000\n",
      "Created a chunk of size 1045, which is longer than the specified 1000\n",
      "Created a chunk of size 1132, which is longer than the specified 1000\n",
      "Created a chunk of size 1674, which is longer than the specified 1000\n"
     ]
    },
    {
     "name": "stdout",
     "output_type": "stream",
     "text": [
      "Loading model\n",
      "Splitting documents\n",
      "Creating document embeddings\n",
      "Generating chunk retriever\n"
     ]
    }
   ],
   "source": [
    "pdf_qa = PdfQA(\"gpt-3.5-turbo\", \"./materials/chekhov.txt\", 1000, 0, \"similarity\", \n",
    "               5, \"stuff\")\n",
    "pdf_qa_chain = pdf_qa.query_chain()"
   ]
  },
  {
   "cell_type": "markdown",
   "id": "e1618a7539d451a0",
   "metadata": {},
   "source": [
    "Let's try it out by asking how we can debug in PyCharm."
   ]
  },
  {
   "cell_type": "code",
   "execution_count": 64,
   "id": "ec7e8f62e1ff0803",
   "metadata": {
    "ExecuteTime": {
     "end_time": "2024-05-31T15:48:57.589492Z",
     "start_time": "2024-05-31T15:48:54.552619Z"
    }
   },
   "outputs": [],
   "source": [
    "answer1 = pdf_qa_chain.invoke({\"query\": \"what's a really good day according to Chekhov\"})"
   ]
  },
  {
   "cell_type": "code",
   "execution_count": 65,
   "id": "6d1fbc81d231df98",
   "metadata": {
    "ExecuteTime": {
     "end_time": "2024-05-31T15:49:00.235137Z",
     "start_time": "2024-05-31T15:49:00.229727Z"
    }
   },
   "outputs": [
    {
     "data": {
      "text/plain": [
       "\"A really good day for Chekhov seems to involve celebrating St. Tatyana's Day with his literary friends, making speeches, and keeping the holiday. He also enjoyed spending time with his family and friends, having visitors over, singing, playing the piano, and laughing. Additionally, he found joy in working on his favorite activities like planting and pruning trees, looking after his garden, and helping invalids who appealed to him for assistance.\""
      ]
     },
     "execution_count": 65,
     "metadata": {},
     "output_type": "execute_result"
    }
   ],
   "source": [
    "answer1[\"result\"]"
   ]
  },
  {
   "cell_type": "markdown",
   "id": "2d0f4f9b2ba9b26",
   "metadata": {},
   "source": [
    "We can see the answer is very comprehensive. Let's have a look at the information it was based on from the documentation."
   ]
  },
  {
   "cell_type": "code",
   "execution_count": 66,
   "id": "f1453f0dff1fe05d",
   "metadata": {
    "ExecuteTime": {
     "end_time": "2024-05-31T15:49:04.163413Z",
     "start_time": "2024-05-31T15:49:04.159068Z"
    }
   },
   "outputs": [
    {
     "name": "stdout",
     "output_type": "stream",
     "text": [
      "\n",
      "DOCUMENT 1\n",
      "\"I have written sixty kopecks' worth,\" he would say with a smile. Braga's \"Serenade\" was the fashion at that time, and Chekhov was fond of hearing Potapenko play it on the violin while Miss Mizinov sang it. Having been a student at the Moscow University, Chekhov liked to celebrate St. Tatyana's Day. He never missed making a holiday of it when he lived in Moscow. That winter, for the first time, he chanced to be in Petersburg on the 12th of January. He did not forget \"St. Tatyana,\" and assembled all his literary friends on that day in a Petersburg restaurant. They made speeches and kept the holiday, and this festivity initiated by him was so successful that the authors went on meeting regularly afterwards.\n",
      "\n",
      "DOCUMENT 2\n",
      "I have the honour to congratulate you and the hero of the name-day; [Footnote: It was the name-day of Chekhov himself.] I wish you and him health and prosperity, and above all that the mongoose should not break the crockery or tear the wall-paper. I shall celebrate my name-day at the Maly Yaroslavets restaurant, from the restaurant to the benefit performance, from the benefit performance to the restaurant again. I am working, but with very great difficulty. No sooner have I written a line than the bell rings and someone comes in to talk to me about Sahalin. It's simply awful! ...\n",
      "\n",
      "DOCUMENT 3\n",
      "The winter of 1893 was a severe one with a great deal of snow. The snow was so high under the windows that the hares who ran into the garden stood on their hind-legs and looked into the window of Chekhov's study. The swept paths in the garden were like deep trenches. By then Chekhov had finished his work in connection with the cholera and he began to live the life of a hermit. His sister found employment in Moscow; only his father and mother were left with him in the house, and the hours seemed very long. They went to bed even earlier than in the summer, but Chekhov would wake up at one in the morning, sit down to his work and then go back to bed and sleep again. At six o'clock in the morning all the household was up. Chekhov wrote a great deal that winter. But as soon as visitors arrived, life was completely transformed. There was singing, playing on the piano, laughter. Chekhov's mother did her utmost to load the tables with dainties; his father with a mysterious air would produce various specially prepared cordials and liqueurs from some hidden recess; and then it seemed that Melihovo had something of its own, peculiar to it, which could be found in no other country estate. Chekhov was always particularly pleased at the visits of Miss Mizinov and of Potapenko. He was particularly fond of them, and his whole family rejoiced at their arrival. They stayed up long after midnight on such days, and Chekhov wrote only by snatches. And every time he wrote five or six lines, he would get up again and go back to his visitors.\n",
      "\n",
      "DOCUMENT 4\n",
      "Keep well and be happy. I heard Masha was sending you a letter, and so I hasten to write these few lines. [Footnote: Chekhov's later letters to O. L. Knipper have not been published.] TO HIS SISTER. YALTA, September 9, 1900. DEAR MASHA, I answer the letter in which you write about Mother. To my thinking it would be better for her to go to Moscow now in the autumn and not after December. She will be tired of Moscow and pining for Yalta in a month, you know, and if you take her to Moscow in the autumn she will be back in Yalta before Christmas. That's how it seems to me, but possibly I am mistaken; in any case you must take into consideration that it is much drearier in Yalta before Christmas than it is after--infinitely drearier.\n",
      "\n",
      "DOCUMENT 5\n",
      "He spent the autumn in Moscow, and at the beginning of December went to the French Riviera, settled in Nice, and dreamed again of a visit to Africa, but went instead to Rome. Here, as usual, he met with severe weather. Early in February he returned to Yalta. That year there was a soft, sunny spring. Chekhov spent whole days in the open air, engaged in his favourite occupations; he planted and pruned trees, looked after his garden, ordered all sorts of seeds, and watched them coming up. At the same time he was working on behalf of the invalids coming to Yalta, who appealed to him for help, and also completing the library he had founded at Taganrog, and planning to open a picture gallery there. In May, 1901, Chekhov went to Moscow and was thoroughly examined by a physician, who urged him to go at once to Switzerland or to take a koumiss cure. Chekhov preferred the latter.\n"
     ]
    }
   ],
   "source": [
    "for document in answer1[\"source_documents\"]:\n",
    "    index_n = answer1[\"source_documents\"].index(document)\n",
    "    print(f\"\\nDOCUMENT {index_n + 1}\")\n",
    "    print(re.sub(r\"\\s+\", \" \", document.page_content.strip()))"
   ]
  },
  {
   "cell_type": "markdown",
   "id": "988b16f0387ce399",
   "metadata": {},
   "source": [
    "We can see that the first three chunks are the most relevant, while the last three don't really add that much to the answer.\n",
    "\n",
    "If we'd like, we can go a bit deeper with our answer. We can set up a memory for the last answer the LLM gave us so we can ask follow up questions. In this case, let's see if the LLM left out anything about PyCharm's debugging."
   ]
  },
  {
   "cell_type": "code",
   "execution_count": 8,
   "id": "233bb88309ba48d7",
   "metadata": {
    "ExecuteTime": {
     "end_time": "2024-05-31T15:49:24.985020Z",
     "start_time": "2024-05-31T15:49:21.453330Z"
    }
   },
   "outputs": [],
   "source": [
    "chat_history1 = [(answer1[\"query\"], answer1[\"result\"])]\n",
    "answer2 = pdf_qa_chain.invoke({\"query\": \"Have you left out any other types of debugging?\",\n",
    "                               \"chat_history\": chat_history1})"
   ]
  },
  {
   "cell_type": "code",
   "execution_count": 9,
   "id": "3d5d632b16484d7a",
   "metadata": {
    "ExecuteTime": {
     "end_time": "2024-05-31T15:49:28.274380Z",
     "start_time": "2024-05-31T15:49:28.271332Z"
    }
   },
   "outputs": [
    {
     "data": {
      "text/plain": [
       "'Yes, there are other types of debugging mentioned in the context provided:\\n\\n1. Debugging JavaScript: This is mentioned as the next step intended for Professional edition users.\\n2. Debugging Django templates: It is mentioned that you have learned how to step through your template, evaluate expressions, and add watches in the context of a Django project.\\n3. Working in the Threads and Variables tab: It is mentioned that you can observe the variables used in the application by stepping through all the set breakpoints.\\n4. Working in the Console tab: It is mentioned that you can use the Console tab to see error messages or perform calculations not related to the current application.\\n\\nThese are the additional types of debugging mentioned in the context provided.'"
      ]
     },
     "execution_count": 9,
     "metadata": {},
     "output_type": "execute_result"
    }
   ],
   "source": [
    "answer2[\"result\"]"
   ]
  },
  {
   "cell_type": "markdown",
   "id": "c6922b4d1d9ba8fa",
   "metadata": {},
   "source": [
    "If our model is capable of it, we can even enter queries in a different language to the source documentation, and get relevant answers back in this language. Here we question our English-language documentation in German ..."
   ]
  }
 ],
 "metadata": {
  "kernelspec": {
   "display_name": "Python 3",
   "language": "python",
   "name": "python3"
  },
  "language_info": {
   "codemirror_mode": {
    "name": "ipython",
    "version": 3
   },
   "file_extension": ".py",
   "mimetype": "text/x-python",
   "name": "python",
   "nbconvert_exporter": "python",
   "pygments_lexer": "ipython3",
   "version": "3.11.9"
  }
 },
 "nbformat": 4,
 "nbformat_minor": 5
}
